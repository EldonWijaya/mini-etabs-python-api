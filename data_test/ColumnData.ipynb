{
 "cells": [
  {
   "cell_type": "code",
   "execution_count": 9,
   "id": "af75fe13-1db7-45e5-bf79-f4114fc40e81",
   "metadata": {},
   "outputs": [],
   "source": [
    "import sys\n",
    "import pathlib"
   ]
  },
  {
   "cell_type": "code",
   "execution_count": 85,
   "id": "fd5811f0-c12e-4074-ad57-64aaa430c46f",
   "metadata": {},
   "outputs": [],
   "source": [
    "sys.path.append(pathlib.Path().resolve().parents[0].__str__())"
   ]
  },
  {
   "cell_type": "code",
   "execution_count": 87,
   "id": "849cfe12-5d54-4cdd-a00b-ee2d75426793",
   "metadata": {},
   "outputs": [
    {
     "data": {
      "text/plain": [
       "['C:\\\\Users\\\\Asus\\\\Documents\\\\Projects',\n",
       " 'C:\\\\Users\\\\Asus\\\\Documents\\\\Projects\\\\lib',\n",
       " 'C:\\\\Users\\\\Asus\\\\Documents\\\\Projects\\\\lib',\n",
       " 'C:\\\\Users\\\\Asus\\\\Documents\\\\Projects\\\\lib',\n",
       " 'C:\\\\Users\\\\Asus\\\\Documents\\\\Projects\\\\lib',\n",
       " 'C:\\\\Users\\\\Asus\\\\Documents\\\\Projects\\\\lib\\\\',\n",
       " 'C:\\\\Users\\\\Asus\\\\Documents\\\\Projects\\\\lib\\\\',\n",
       " 'C:\\\\Users\\\\Asus\\\\Documents\\\\Projects\\\\lib\\\\',\n",
       " 'C:\\\\Users\\\\Asus\\\\Documents\\\\Projects\\\\lib',\n",
       " 'C:\\\\Users\\\\Asus\\\\Documents\\\\Projects\\\\lib',\n",
       " 'C:\\\\Users\\\\Asus\\\\Documents\\\\Projects\\\\lib',\n",
       " 'C:\\\\Users\\\\Asus\\\\Documents\\\\Projects\\\\lib',\n",
       " 'C:\\\\Users\\\\Asus\\\\Documents\\\\Projects\\\\Jupyter\\\\data_test',\n",
       " 'C:\\\\Users\\\\Asus\\\\anaconda3\\\\python311.zip',\n",
       " 'C:\\\\Users\\\\Asus\\\\anaconda3\\\\DLLs',\n",
       " 'C:\\\\Users\\\\Asus\\\\anaconda3\\\\Lib',\n",
       " 'C:\\\\Users\\\\Asus\\\\anaconda3',\n",
       " '',\n",
       " 'C:\\\\Users\\\\Asus\\\\anaconda3\\\\Lib\\\\site-packages',\n",
       " 'C:\\\\Users\\\\Asus\\\\anaconda3\\\\Lib\\\\site-packages\\\\win32',\n",
       " 'C:\\\\Users\\\\Asus\\\\anaconda3\\\\Lib\\\\site-packages\\\\win32\\\\lib',\n",
       " 'C:\\\\Users\\\\Asus\\\\anaconda3\\\\Lib\\\\site-packages\\\\Pythonwin',\n",
       " '/path/to/application/app/folder',\n",
       " '/path/to/application/app/lib',\n",
       " 'C:\\\\Users\\\\Asus\\\\Documents\\\\Projects\\\\lib',\n",
       " 'C:\\\\Users\\\\Asus\\\\Documents\\\\Projects\\\\Jupyter\\\\lib',\n",
       " 'C:\\\\Users\\\\Asus\\\\Documents\\\\Projects\\\\Jupyter']"
      ]
     },
     "execution_count": 87,
     "metadata": {},
     "output_type": "execute_result"
    }
   ],
   "source": [
    "sys.path.insert(0,folder_path)"
   ]
  },
  {
   "cell_type": "code",
   "execution_count": 89,
   "id": "b463125d-2bef-4db0-b282-8cbef2452e4d",
   "metadata": {},
   "outputs": [
    {
     "name": "stdout",
     "output_type": "stream",
     "text": [
      "Succesfully created helper object\n",
      "Succesfully created SapModel\n"
     ]
    }
   ],
   "source": [
    "import pandas as pd\n",
    "import numpy as np\n",
    "import math\n",
    "import json\n",
    "import os\n",
    "import lib.csiapi as csiapi\n",
    "import lib.util as util\n",
    "import configparser\n",
    "\n",
    "%load_ext autoreload\n",
    "%autoreload 2\n",
    "\n",
    "### Connect to ETABS\n",
    "sys.path.insert\n",
    "# Initialization of ETABSObject\n",
    "ETABSObject, SapModel = csiapi.get_active_etabs_object()\n",
    "\n",
    "# create folder for temporary csv files\n",
    "csv_folder_path = os.getcwd() + r'\\csv'\n",
    "if not os.path.exists(csv_folder_path):\n",
    "    os.makedirs(csv_folder_path)"
   ]
  }
 ],
 "metadata": {
  "kernelspec": {
   "display_name": "Python 3 (ipykernel)",
   "language": "python",
   "name": "python3"
  },
  "language_info": {
   "codemirror_mode": {
    "name": "ipython",
    "version": 3
   },
   "file_extension": ".py",
   "mimetype": "text/x-python",
   "name": "python",
   "nbconvert_exporter": "python",
   "pygments_lexer": "ipython3",
   "version": "3.11.7"
  }
 },
 "nbformat": 4,
 "nbformat_minor": 5
}
