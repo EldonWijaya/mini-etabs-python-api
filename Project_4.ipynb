{
 "cells": [
  {
   "cell_type": "markdown",
   "id": "33768369-7e90-45ce-80d4-8b9ba4fc8443",
   "metadata": {},
   "source": [
    "# Selects concrete columns with a certain amount of capacity ratio"
   ]
  },
  {
   "cell_type": "code",
   "execution_count": 1,
   "id": "c1ae2c60-1285-4fa4-b7f7-9e50ea2de9a0",
   "metadata": {},
   "outputs": [],
   "source": [
    "import pandas as pd\n",
    "import numpy as np\n",
    "import os\n",
    "import sys\n",
    "import comtypes.client\n",
    "\n",
    "import json\n",
    "import tkinter as tk\n",
    "from tkinter import filedialog\n",
    "import lib.csiapi as csiapi\n",
    "import lib.util as util\n",
    "\n",
    "%load_ext autoreload\n",
    "%autoreload 2"
   ]
  },
  {
   "cell_type": "code",
   "execution_count": 2,
   "id": "c80dd722-9ce3-4487-b0f7-9dfb32010e98",
   "metadata": {},
   "outputs": [
    {
     "name": "stdout",
     "output_type": "stream",
     "text": [
      "Succesfully created helper object\n",
      "Succesfully created SapModel\n"
     ]
    }
   ],
   "source": [
    "# Initialization of ETABSObject\n",
    "\"\"\"\n",
    "ETABS_path_exe = r'C:/Program Files/Computers and Structures/ETABS 21_2/ETABS.exe'\n",
    "if not os.path.isfile(ETABS_path_exe):\n",
    "    root = tk.Tk()\n",
    "    root.withdraw()\n",
    "    ETABS_path = filedialog.askopenfilename(parent=root)\n",
    "    root.destroy()\n",
    "\"\"\"\n",
    "# create API helper object\n",
    "helper = comtypes.client.CreateObject(\"ETABSv1.Helper\")\n",
    "helper = helper.QueryInterface(comtypes.gen.ETABSv1.cHelper)\n",
    "print(\"Succesfully created helper object\")\n",
    "\n",
    "try:\n",
    "    #get the active ETABS object\n",
    "    ETABSObject = helper.GetObject(\"CSI.ETABS.API.ETABSObject\") \n",
    "    SapModel = ETABSObject.SapModel\n",
    "    print(\"Succesfully created SapModel\")\n",
    "except (OSError, comtypes.COMError):  \n",
    "    print(\"No running instance of the program found or failed to attach.\")\n",
    "    sys.exit(-1)\n",
    "\n",
    "# create folder for temporary csv files\n",
    "csv_folder_path = os.getcwd() + r'\\csv'\n",
    "if not os.path.exists(csv_folder_path):\n",
    "    os.makedirs(csv_folder_path)"
   ]
  },
  {
   "cell_type": "code",
   "execution_count": 3,
   "id": "201f0a94-a565-409b-9283-49a8aa9e9d5b",
   "metadata": {},
   "outputs": [
    {
     "data": {
      "text/plain": [
       "0"
      ]
     },
     "execution_count": 3,
     "metadata": {},
     "output_type": "execute_result"
    }
   ],
   "source": [
    "SapModel.Analyze.RunAnalysis()\n",
    "SapModel.DesignConcrete.StartDesign()"
   ]
  },
  {
   "cell_type": "code",
   "execution_count": 458,
   "id": "2cbf37b1-11b6-4aef-b3e5-01c401827efb",
   "metadata": {},
   "outputs": [],
   "source": [
    "cantilever_prefix = 'CL'\n",
    "beam_prefix = 'B'\n",
    "girder_prefix = 'G'\n",
    "girder_reinforcement = 22\n",
    "cantilever_reinforcement = 19\n",
    "beam_reinforcement = 19\n",
    "\n",
    "concrete_design_code = SapModel.DesignConcrete.GetCode()\n",
    "raw_beam_reinforcement_results = csiapi.get_table_display(SapModel, 'Concrete Beam Design Summary - ' + concrete_design_code[0])"
   ]
  },
  {
   "cell_type": "code",
   "execution_count": 460,
   "id": "228e0044-1016-41cf-a47e-ceea68a033fd",
   "metadata": {},
   "outputs": [],
   "source": [
    "# Assinging locations to beams\n",
    "\n",
    "beam_unique_name = raw_beam_reinforcement_results['UniqueName']\n",
    "beam_station = raw_beam_reinforcement_results['Station']\n",
    "beam_design_sect = raw_beam_reinforcement_results['DesignSect']\n",
    "beam_as_top = raw_beam_reinforcement_results['AsTopTotal'] # for cantilever checking\n",
    "max_station = []\n",
    "min_station = []\n",
    "ln = []\n",
    "reinforcement_location = []\n",
    "for idx in range(len(beam_unique_name)):\n",
    "# for i in range(1):\n",
    "    i = beam_unique_name[idx]\n",
    "    local_beam_station = beam_station[idx]\n",
    "    local_design_sect = beam_design_sect[idx]\n",
    "    local_beam_stations = (beam_station[i == beam_unique_name]).to_numpy()\n",
    "    # max_station[i] = max(local_beam_stations)\n",
    "    # min_station[i] = min(local_beam_stations)\n",
    "    local_max_station = max(local_beam_stations)\n",
    "    local_min_station = min(local_beam_stations)\n",
    "    local_ln = local_max_station - local_min_station\n",
    "    max_station.append(local_max_station)\n",
    "    min_station.append(local_min_station)\n",
    "    # max_station.concatenate(local_max_station)\n",
    "    # min_station.concatenate(local_min_station)\n",
    "    ln.append(local_max_station-local_min_station)\n",
    "    if cantilever_prefix in local_design_sect:\n",
    "        local_beam_as_top = (beam_as_top[i == beam_unique_name]).to_numpy()\n",
    "        condition1 = local_beam_as_top[0] > local_beam_as_top[-1]\n",
    "        condition2 = local_beam_station <= (local_ln / 2 + local_min_station)\n",
    "        # if condition1 & condition2:\n",
    "        #    local_location = 'End'\n",
    "        if ~(condition1 ^ condition2):\n",
    "            local_location = 'End'\n",
    "        else:\n",
    "            local_location = 'Mid'\n",
    "    elif (girder_prefix in local_design_sect) | (beam_prefix in local_design_sect):\n",
    "        if local_beam_station < (1/4*local_ln + local_min_station):\n",
    "            local_location = 'End-I'\n",
    "        elif local_beam_station > (3/4*local_ln + local_min_station):\n",
    "            local_location = 'End-J'\n",
    "        else:\n",
    "            local_location = 'Mid'\n",
    "    reinforcement_location.append(local_location)\n",
    "    # ln.concatenate(local_max_station-local_min_station)\n",
    "\"\"\"\n",
    "for i in beam_unique_name.unique():\n",
    "    local_reinforcement_location_i = local_beam_stations < (1/4*local_ln + local_min_station)\n",
    "    local_reinforcement_location_j = local_beam_stations > (3/4*local_ln + local_min_station)  \n",
    "    local_reinforcement_location_m = (~(local_reinforcement_location_i | local_reinforcement_location_j))\n",
    "    # local_reinforcement = local_reinforcement_location_i * 1 + local_reinforcement_location_m * 2 + local_reinforcement_location_j * 3\n",
    "    # reinforcement_location.append(local_reinforcement)\n",
    "    reinforcement_location = np.append(reinforcement_location, local_reinforcement)\n",
    "\"\"\"\n",
    "raw_beam_reinforcement_results['Location'] = reinforcement_location"
   ]
  },
  {
   "cell_type": "code",
   "execution_count": 461,
   "id": "9f77b26b-bf32-408a-9334-0a637c444ffd",
   "metadata": {},
   "outputs": [],
   "source": [
    "util.open_as_csv(raw_beam_reinforcement_results)"
   ]
  },
  {
   "cell_type": "code",
   "execution_count": 552,
   "id": "ae297f02-dc4c-46a3-abff-15c6beb71487",
   "metadata": {},
   "outputs": [],
   "source": [
    "# Joining tables\n",
    "\n",
    "beam_unique_name_table = pd.DataFrame(raw_beam_reinforcement_results['UniqueName'].unique(), columns = ['UniqueName'])\n",
    "beam_assignments = csiapi.get_table_display(SapModel, 'Frame Assignments - Summary')\n",
    "beam_rectangular_sections = csiapi.get_table_display(SapModel, 'Frame Section Property Definitions - Concrete Rectangular')\n",
    "concrete_materials = csiapi.get_table_display(SapModel, 'Material Properties - Concrete Data')\n",
    "\n",
    "beam_assignments = beam_assignments[['UniqueName', 'Design Section']]\n",
    "beam_rectangular_sections = beam_rectangular_sections[['Name', 'Material', 'Depth', 'Width']]\n",
    "concrete_materials = concrete_materials[['Material', 'Fc']] # Fc' in kN/m^2\n",
    "\n",
    "beam_rectangular_sections = pd.merge(beam_rectangular_sections, concrete_materials, how = 'inner')\n",
    "beam_unique_name_table = pd.merge(beam_unique_name_table, beam_assignments, how = 'inner', on = 'UniqueName')\n",
    "beam_unique_name_table = pd.merge(beam_unique_name_table, beam_rectangular_sections, how = 'inner', left_on = 'Design Section', right_on = 'Name', copy = False)\n",
    "beam_unique_name_table.drop(columns = ['Name'], inplace = True)\n",
    "\n",
    "# simplify both end-I and end-J to end\n",
    "as_top_end = []\n",
    "as_bot_end = []\n",
    "as_top_mid = []\n",
    "as_bot_mid = []\n",
    "# assume cover of 60 mm\n",
    "effective_area = (beam_unique_name_table['Depth'] - 0.06) * beam_unique_name_table['Width']\n",
    "as_min_coefficient = pd.DataFrame(0.25*(beam_unique_name_table['Fc']/1000)**0.5)\n",
    "as_min_coefficient['coeff2'] = 1.4\n",
    "as_min_coefficient = as_min_coefficient.max(axis=1)\n",
    "as_min = as_min_coefficient * effective_area\n",
    "\n",
    "for i in beam_unique_name_table['UniqueName']:\n",
    "    local_beam_table = raw_beam_reinforcement_results[i == raw_beam_reinforcement_results['UniqueName']]\n",
    "    local_as_top_end = (local_beam_table['AsTopTotal'][local_beam_table['Location'].str.contains('End')]).max()\n",
    "    local_as_bot_end = (local_beam_table['AsBotTotal'][local_beam_table['Location'].str.contains('End')]).max()\n",
    "    local_as_top_mid = (local_beam_table['AsTopTotal'][local_beam_table['Location'].str.contains('Mid')]).max()\n",
    "    local_as_bot_mid = (local_beam_table['AsBotTotal'][local_beam_table['Location'].str.contains('Mid')]).max()\n",
    "    as_top_end.append(local_as_top_end)\n",
    "    as_bot_end.append(local_as_bot_end)\n",
    "    as_top_mid.append(local_as_top_mid)\n",
    "    as_bot_mid.append(local_as_bot_mid)\n",
    "    # no_bars    \n",
    "    pass\n",
    "beam_unique_name_table['AsTopEnd'] = as_top_end\n",
    "beam_unique_name_table['AsBotEnd'] = as_bot_end\n",
    "beam_unique_name_table['AsTopMid'] = as_top_mid\n",
    "beam_unique_name_table['AsBotMid'] = as_bot_mid\n",
    "beam_unique_name_table['AsMin'] = as_min"
   ]
  },
  {
   "cell_type": "code",
   "execution_count": 554,
   "id": "f4ccac85-0e37-41e9-adcf-250d463fd569",
   "metadata": {},
   "outputs": [
    {
     "data": {
      "text/plain": [
       "0      0.1848\n",
       "1      0.1848\n",
       "2      0.1848\n",
       "3      0.1848\n",
       "4      0.1848\n",
       "        ...  \n",
       "494    0.2268\n",
       "495    0.2268\n",
       "496    0.2268\n",
       "497    0.2268\n",
       "498    0.2268\n",
       "Length: 499, dtype: float64"
      ]
     },
     "execution_count": 554,
     "metadata": {},
     "output_type": "execute_result"
    }
   ],
   "source": [
    "as_min"
   ]
  },
  {
   "cell_type": "code",
   "execution_count": 558,
   "id": "9e8ccb5b-f3de-4417-8805-cac7fda1a573",
   "metadata": {},
   "outputs": [
    {
     "ename": "AttributeError",
     "evalue": "module 'pandas' has no attribute 'to_csv'",
     "output_type": "error",
     "traceback": [
      "\u001b[1;31m---------------------------------------------------------------------------\u001b[0m",
      "\u001b[1;31mAttributeError\u001b[0m                            Traceback (most recent call last)",
      "Cell \u001b[1;32mIn[558], line 1\u001b[0m\n\u001b[1;32m----> 1\u001b[0m pd\u001b[38;5;241m.\u001b[39mto_csv(as_min)\n",
      "\u001b[1;31mAttributeError\u001b[0m: module 'pandas' has no attribute 'to_csv'"
     ]
    }
   ],
   "source": [
    "pd.to_csv(as_min)"
   ]
  },
  {
   "cell_type": "code",
   "execution_count": null,
   "id": "e87a8a22-dadf-45df-a264-dad917fc3a3c",
   "metadata": {},
   "outputs": [],
   "source": []
  }
 ],
 "metadata": {
  "kernelspec": {
   "display_name": "Python 3 (ipykernel)",
   "language": "python",
   "name": "python3"
  },
  "language_info": {
   "codemirror_mode": {
    "name": "ipython",
    "version": 3
   },
   "file_extension": ".py",
   "mimetype": "text/x-python",
   "name": "python",
   "nbconvert_exporter": "python",
   "pygments_lexer": "ipython3",
   "version": "3.11.7"
  }
 },
 "nbformat": 4,
 "nbformat_minor": 5
}
