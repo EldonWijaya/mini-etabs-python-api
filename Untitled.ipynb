{
 "cells": [
  {
   "cell_type": "code",
   "execution_count": 1,
   "id": "29619942-6f5b-4f94-9545-c2f5d96b9064",
   "metadata": {},
   "outputs": [],
   "source": [
    "import pandas as pd\n",
    "import tempfile\n",
    "import os\n",
    "import xlsxwriter\n",
    "import lib.csiapi as csiapi\n",
    "import lib.beam as beam\n",
    "import lib.util\n",
    "\n",
    "%load_ext autoreload\n",
    "%autoreload 2"
   ]
  },
  {
   "cell_type": "code",
   "execution_count": 15,
   "id": "a8606e1e-9852-4d82-9c2a-73d390cf8256",
   "metadata": {},
   "outputs": [],
   "source": [
    "df = pd.DataFrame(['1', '2', '3'])"
   ]
  },
  {
   "cell_type": "code",
   "execution_count": 63,
   "id": "d397736d-51d9-4ecf-800b-ca03b2891ea8",
   "metadata": {},
   "outputs": [],
   "source": [
    "def open_as_excel(*args):\n",
    "    with tempfile.NamedTemporaryFile(suffix='.xlsx', delete=False) as tmp:\n",
    "        tmp_name = tmp.name\n",
    "    with pd.ExcelWriter(tmp_name, engine='xlsxwriter') as writer:\n",
    "        for i, df in enumerate(args, start=1):\n",
    "            sheet_name_i = f'Sheet{i}'\n",
    "            df.to_excel(writer, sheet_name=sheet_name_i, index=False)\n",
    "    os.startfile(tmp_name)\n"
   ]
  },
  {
   "cell_type": "code",
   "execution_count": 5,
   "id": "46cb93fb-f22f-444c-a4b7-5722586a4aca",
   "metadata": {},
   "outputs": [
    {
     "name": "stdout",
     "output_type": "stream",
     "text": [
      "Succesfully created helper object\n",
      "Succesfully created SapModel\n"
     ]
    }
   ],
   "source": [
    "ETABSObject, SapModel = csiapi.get_active_etabs_object()"
   ]
  },
  {
   "cell_type": "code",
   "execution_count": 109,
   "id": "6b1211fa-91b0-4c46-ba50-069e0c4c8275",
   "metadata": {},
   "outputs": [],
   "source": [
    "all_frames = SapModel.FrameObj.GetAllFrames()[1]"
   ]
  },
  {
   "cell_type": "code",
   "execution_count": null,
   "id": "f2388321-7e21-4fae-87ac-918712f817f3",
   "metadata": {},
   "outputs": [],
   "source": [
    "for i in all_frames:\n",
    "    type = SapModel.DesignConcrete.ACI318_08_IBC2009.GetOverwrite(i,1)\n",
    "    if type[0] == 1:\n",
    "        SapModel.FrameObj.SetSelected(i,True)"
   ]
  },
  {
   "cell_type": "code",
   "execution_count": 7,
   "id": "5f521d2c-55b4-4f95-8f89-4d7bb3752407",
   "metadata": {},
   "outputs": [],
   "source": [
    "beam.remove_beam_labels(SapModel)"
   ]
  },
  {
   "cell_type": "code",
   "execution_count": 29,
   "id": "0a118dcd-3df4-41d4-be35-28b8e0491944",
   "metadata": {},
   "outputs": [
    {
     "name": "stdout",
     "output_type": "stream",
     "text": [
      "['C:\\\\Users\\\\Asus\\\\Documents\\\\Projects\\\\Jupyter', 'C:\\\\Users\\\\Asus\\\\anaconda3\\\\python311.zip', 'C:\\\\Users\\\\Asus\\\\anaconda3\\\\DLLs', 'C:\\\\Users\\\\Asus\\\\anaconda3\\\\Lib', 'C:\\\\Users\\\\Asus\\\\anaconda3', '', 'C:\\\\Users\\\\Asus\\\\anaconda3\\\\Lib\\\\site-packages', 'C:\\\\Users\\\\Asus\\\\anaconda3\\\\Lib\\\\site-packages\\\\win32', 'C:\\\\Users\\\\Asus\\\\anaconda3\\\\Lib\\\\site-packages\\\\win32\\\\lib', 'C:\\\\Users\\\\Asus\\\\anaconda3\\\\Lib\\\\site-packages\\\\Pythonwin']\n"
     ]
    }
   ],
   "source": [
    "import sys\n",
    "print(sys.path)"
   ]
  }
 ],
 "metadata": {
  "kernelspec": {
   "display_name": "Python 3 (ipykernel)",
   "language": "python",
   "name": "python3"
  },
  "language_info": {
   "codemirror_mode": {
    "name": "ipython",
    "version": 3
   },
   "file_extension": ".py",
   "mimetype": "text/x-python",
   "name": "python",
   "nbconvert_exporter": "python",
   "pygments_lexer": "ipython3",
   "version": "3.11.7"
  }
 },
 "nbformat": 4,
 "nbformat_minor": 5
}
