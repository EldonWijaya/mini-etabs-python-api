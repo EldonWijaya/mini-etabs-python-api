{
 "cells": [
  {
   "cell_type": "markdown",
   "id": "bcaa14e4-99c1-4078-9169-a7f9fd9205b0",
   "metadata": {},
   "source": [
    "# Checking column capacity\n",
    "### Use after designing beams\n",
    "\n",
    "PMM\n",
    "\n",
    "1.2 SCWB\n",
    "\n",
    "1.5 SCWB\n",
    "\n",
    "JS"
   ]
  },
  {
   "cell_type": "code",
   "execution_count": 10,
   "id": "cb97b0b4-a9e2-4d2e-9d90-471e0a050b71",
   "metadata": {},
   "outputs": [
    {
     "name": "stdout",
     "output_type": "stream",
     "text": [
      "Succesfully created helper object\n",
      "Succesfully created SapModel\n"
     ]
    }
   ],
   "source": [
    "from lib import csiapi\n",
    "ETABSObject, SapModel = csiapi.get_active_etabs_object()"
   ]
  },
  {
   "cell_type": "code",
   "execution_count": null,
   "id": "1318e389-2fa4-4aa1-9d63-a2f6faf44e52",
   "metadata": {},
   "outputs": [],
   "source": [
    "SapModel.Analyze.RunAnalysis()\n",
    "SapModel.DesignConcrete.StartDesign()"
   ]
  },
  {
   "cell_type": "markdown",
   "id": "485d7602-dbfe-4b8a-9f16-1d191bcf7dd7",
   "metadata": {},
   "source": [
    "## Create groups"
   ]
  },
  {
   "cell_type": "code",
   "execution_count": 39,
   "id": "3259a54c-3111-46f3-9b62-75ffd9d58ae9",
   "metadata": {},
   "outputs": [
    {
     "name": "stdout",
     "output_type": "stream",
     "text": [
      "1\n",
      "0\n",
      "1\n",
      "0\n",
      "1\n",
      "0\n",
      "1\n",
      "0\n"
     ]
    }
   ],
   "source": [
    "group_1_2_scwb = 'Column_Failure_1.2_SCWB'\n",
    "group_1_5_scwb = 'Column_Failure_1.5_SCWB'\n",
    "group_js = 'Column_Failure_JS'\n",
    "group_pmm = 'Column_Failure_PMM'\n",
    "group_list = [group_1_2_scwb, group_1_5_scwb, group_js, group_pmm]\n",
    "\n",
    "# delete existing groups and recreates it to empty it\n",
    "for group in group_list:\n",
    "    SapModel.GroupDef.Delete(group)\n",
    "    SapModel.GroupDef.SetGroup_1(group)"
   ]
  },
  {
   "cell_type": "markdown",
   "id": "0c7113c2-bbd6-4a6f-9c59-eda0de663e03",
   "metadata": {},
   "source": [
    "## Get design result tables"
   ]
  },
  {
   "cell_type": "code",
   "execution_count": 77,
   "id": "880d9684-4ebe-4718-bc90-995c54948e61",
   "metadata": {},
   "outputs": [],
   "source": [
    "column_results_df = csiapi.get_table_display(SapModel, 'Concrete Column Design Summary - ' + SapModel.DesignConcrete.GetCode()[0])\n",
    "joint_results_df = csiapi.get_table_display(SapModel, 'Concrete Joint Design Summary - ' + SapModel.DesignConcrete.GetCode()[0])"
   ]
  },
  {
   "cell_type": "markdown",
   "id": "dfbaaf4e-96a4-4276-8ff5-134dbd06062e",
   "metadata": {},
   "source": [
    "## Assign frames to groups"
   ]
  },
  {
   "cell_type": "code",
   "execution_count": null,
   "id": "fb33d375-cb08-466c-9eed-f5074116175b",
   "metadata": {},
   "outputs": [],
   "source": [
    "for i in column_results_df.itertuples():\n",
    "    if i.PMMRatio > 1:\n",
    "        SapModel.FrameObj.SetGroupAssign(str(i.UniqueName),group_pmm)\n",
    "for i in joint_results_df.itertuples():\n",
    "    BCRatio = max([i.BCMinRatio,i.BCMajRatio])\n",
    "    JSRatio = max([i.JSMinRatio,i.JSMajRatio])\n",
    "    if BCRatio > 1:\n",
    "        SapModel.FrameObj.SetGroupAssign(str(i.UniqueName),group_1_2_scwb)\n",
    "    if BCRatio > 0.8:\n",
    "        SapModel.FrameObj.SetGroupAssign(str(i.UniqueName),group_1_5_scwb)\n",
    "    if JSRatio > 1:\n",
    "        SapModel.FrameObj.SetGroupAssign(str(i.UniqueName),group_js)"
   ]
  }
 ],
 "metadata": {
  "kernelspec": {
   "display_name": "Python 3 (ipykernel)",
   "language": "python",
   "name": "python3"
  },
  "language_info": {
   "codemirror_mode": {
    "name": "ipython",
    "version": 3
   },
   "file_extension": ".py",
   "mimetype": "text/x-python",
   "name": "python",
   "nbconvert_exporter": "python",
   "pygments_lexer": "ipython3",
   "version": "3.11.7"
  }
 },
 "nbformat": 4,
 "nbformat_minor": 5
}
