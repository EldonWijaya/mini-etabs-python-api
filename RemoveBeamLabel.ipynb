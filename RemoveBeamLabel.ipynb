{
 "cells": [
  {
   "cell_type": "markdown",
   "id": "33768369-7e90-45ce-80d4-8b9ba4fc8443",
   "metadata": {},
   "source": [
    "# Remove beam label"
   ]
  },
  {
   "cell_type": "code",
   "execution_count": 2,
   "id": "c1ae2c60-1285-4fa4-b7f7-9e50ea2de9a0",
   "metadata": {},
   "outputs": [],
   "source": [
    "import pandas as pd\n",
    "import numpy as np\n",
    "import os\n",
    "import sys\n",
    "import comtypes.client\n",
    "import lib.csiapi as csiapi\n",
    "import lib.util as util\n",
    "\n",
    "%load_ext autoreload\n",
    "%autoreload 2"
   ]
  },
  {
   "cell_type": "code",
   "execution_count": 4,
   "id": "c80dd722-9ce3-4487-b0f7-9dfb32010e98",
   "metadata": {},
   "outputs": [
    {
     "name": "stdout",
     "output_type": "stream",
     "text": [
      "Succesfully created helper object\n",
      "Succesfully created SapModel\n"
     ]
    }
   ],
   "source": [
    "# Initialization of ETABSObject\n",
    "\"\"\"\n",
    "ETABS_path_exe = r'C:/Program Files/Computers and Structures/ETABS 21_2/ETABS.exe'\n",
    "if not os.path.isfile(ETABS_path_exe):\n",
    "    root = tk.Tk()\n",
    "    root.withdraw()\n",
    "    ETABS_path = filedialog.askopenfilename(parent=root)\n",
    "    root.destroy()\n",
    "\"\"\"\n",
    "# create API helper object\n",
    "helper = comtypes.client.CreateObject(\"ETABSv1.Helper\")\n",
    "helper = helper.QueryInterface(comtypes.gen.ETABSv1.cHelper)\n",
    "print(\"Succesfully created helper object\")\n",
    "\n",
    "try:\n",
    "    #get the active ETABS object\n",
    "    ETABSObject = helper.GetObject(\"CSI.ETABS.API.ETABSObject\") \n",
    "    SapModel = ETABSObject.SapModel\n",
    "    print(\"Succesfully created SapModel\")\n",
    "except (OSError, comtypes.COMError):  \n",
    "    print(\"No running instance of the program found or failed to attach.\")\n",
    "    sys.exit(-1)\n",
    "\n",
    "# create folder for temporary csv files\n",
    "csv_folder_path = os.getcwd() + r'\\csv'\n",
    "if not os.path.exists(csv_folder_path):\n",
    "    os.makedirs(csv_folder_path)"
   ]
  },
  {
   "cell_type": "code",
   "execution_count": 22,
   "id": "53217bd1-36c2-4d55-921f-6368c9aed2a4",
   "metadata": {},
   "outputs": [],
   "source": [
    "def extract_base(data_string):\n",
    "    # Split the string by hyphen and join all parts except the last one\n",
    "    parts = data_string.split('-')\n",
    "    base_string = '-'.join(parts[:-1])\n",
    "    return base_string\n",
    "\n",
    "frame_assignments_table = csiapi.get_table_display(SapModel, 'Frame Assignments - Summary')\n",
    "\n",
    "for i in frame_assignments_table.iterrows():\n",
    "    _, i = i\n",
    "    new_section = extract_base(i['Analysis Section'])\n",
    "    SapModel.FrameObj.SetSection(str(i['UniqueName']), extract_base(str(i['Analysis Section'])))\n",
    "    "
   ]
  },
  {
   "cell_type": "code",
   "execution_count": null,
   "id": "8c65b4c4-dffb-48d8-96bc-d5bbe03a7238",
   "metadata": {},
   "outputs": [],
   "source": []
  }
 ],
 "metadata": {
  "kernelspec": {
   "display_name": "Python 3 (ipykernel)",
   "language": "python",
   "name": "python3"
  },
  "language_info": {
   "codemirror_mode": {
    "name": "ipython",
    "version": 3
   },
   "file_extension": ".py",
   "mimetype": "text/x-python",
   "name": "python",
   "nbconvert_exporter": "python",
   "pygments_lexer": "ipython3",
   "version": "3.11.7"
  }
 },
 "nbformat": 4,
 "nbformat_minor": 5
}
