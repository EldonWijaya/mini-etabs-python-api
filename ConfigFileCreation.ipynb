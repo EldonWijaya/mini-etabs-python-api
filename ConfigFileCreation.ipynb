{
 "cells": [
  {
   "cell_type": "code",
   "execution_count": null,
   "id": "89fa98a7-3bfd-4d0e-b377-5f016d645a59",
   "metadata": {},
   "outputs": [],
   "source": [
    "import configparser\n",
    "\n",
    "config = configparser.ConfigParser()\n",
    "config['Concrete'] = {'distance_between_horizontal_reinforcement': '0.04',\n",
    "                      'distance_between_vertical_reinforcement': '0.025',\n",
    "                      'concrete_cover': '0.04'}\n",
    "\n",
    "with open('config.ini','w') as configfile:\n",
    "    config.write(configfile)"
   ]
  }
 ],
 "metadata": {
  "kernelspec": {
   "display_name": "Python 3 (ipykernel)",
   "language": "python",
   "name": "python3"
  },
  "language_info": {
   "codemirror_mode": {
    "name": "ipython",
    "version": 3
   },
   "file_extension": ".py",
   "mimetype": "text/x-python",
   "name": "python",
   "nbconvert_exporter": "python",
   "pygments_lexer": "ipython3",
   "version": "3.11.7"
  }
 },
 "nbformat": 4,
 "nbformat_minor": 5
}
