{
 "cells": [
  {
   "cell_type": "markdown",
   "id": "33768369-7e90-45ce-80d4-8b9ba4fc8443",
   "metadata": {},
   "source": [
    "# Selects concrete columns with a certain amount of capacity ratio"
   ]
  },
  {
   "cell_type": "code",
   "execution_count": 2,
   "id": "c1ae2c60-1285-4fa4-b7f7-9e50ea2de9a0",
   "metadata": {},
   "outputs": [],
   "source": [
    "import pandas as pd\n",
    "import numpy as np\n",
    "import os\n",
    "import sys\n",
    "import comtypes.client\n",
    "\n",
    "import json\n",
    "import tkinter as tk\n",
    "from tkinter import filedialog\n",
    "import lib.csiapi as csiapi\n",
    "import lib.util as util\n",
    "\n",
    "%load_ext autoreload\n",
    "%autoreload 2"
   ]
  },
  {
   "cell_type": "code",
   "execution_count": 3,
   "id": "c80dd722-9ce3-4487-b0f7-9dfb32010e98",
   "metadata": {},
   "outputs": [
    {
     "name": "stdout",
     "output_type": "stream",
     "text": [
      "Succesfully created helper object\n",
      "Succesfully created SapModel\n"
     ]
    }
   ],
   "source": [
    "# Initialization of ETABSObject\n",
    "\"\"\"\n",
    "ETABS_path_exe = r'C:/Program Files/Computers and Structures/ETABS 21_2/ETABS.exe'\n",
    "if not os.path.isfile(ETABS_path_exe):\n",
    "    root = tk.Tk()\n",
    "    root.withdraw()\n",
    "    ETABS_path = filedialog.askopenfilename(parent=root)\n",
    "    root.destroy()\n",
    "\"\"\"\n",
    "# create API helper object\n",
    "helper = comtypes.client.CreateObject(\"ETABSv1.Helper\")\n",
    "helper = helper.QueryInterface(comtypes.gen.ETABSv1.cHelper)\n",
    "print(\"Succesfully created helper object\")\n",
    "\n",
    "try:\n",
    "    #get the active ETABS object\n",
    "    ETABSObject = helper.GetObject(\"CSI.ETABS.API.ETABSObject\") \n",
    "    SapModel = ETABSObject.SapModel\n",
    "    print(\"Succesfully created SapModel\")\n",
    "except (OSError, comtypes.COMError):  \n",
    "    print(\"No running instance of the program found or failed to attach.\")\n",
    "    sys.exit(-1)\n",
    "\n",
    "# create folder for temporary csv files\n",
    "csv_folder_path = os.getcwd() + r'\\csv'\n",
    "if not os.path.exists(csv_folder_path):\n",
    "    os.makedirs(csv_folder_path)"
   ]
  },
  {
   "cell_type": "code",
   "execution_count": 49,
   "id": "201f0a94-a565-409b-9283-49a8aa9e9d5b",
   "metadata": {},
   "outputs": [
    {
     "data": {
      "text/plain": [
       "0"
      ]
     },
     "execution_count": 49,
     "metadata": {},
     "output_type": "execute_result"
    }
   ],
   "source": [
    "SapModel.Analyze.RunAnalysis()\n",
    "SapModel.DesignConcrete.StartDesign()"
   ]
  },
  {
   "cell_type": "code",
   "execution_count": 6,
   "id": "b5708b51-c62a-41c0-a690-3b97a9bfa637",
   "metadata": {},
   "outputs": [],
   "source": [
    "PMM_threshold = 1\n",
    "\n",
    "concrete_column_table = csiapi.get_table_display(SapModel,'Concrete Column Design Summary - ACI 318-19')\n",
    "os_concrete_column_table = concrete_column_table[concrete_column_table['PMMRatio'] > PMM_threshold]\n",
    "os_concrete_column_uniquename = pd.Series(os_concrete_column_table['UniqueName']).unique()\n",
    "for i in os_concrete_column_uniquename:\n",
    "    SapModel.FrameObj.SetSelected(str(i.item()),True)"
   ]
  },
  {
   "cell_type": "code",
   "execution_count": 7,
   "id": "53217bd1-36c2-4d55-921f-6368c9aed2a4",
   "metadata": {},
   "outputs": [],
   "source": [
    "BCC_threshold = 1\n",
    "JS_threshold = 1\n",
    "\n",
    "concrete_joint_table = csiapi.get_table_display(SapModel,'Concrete Joint Design Summary - ACI 318-19')\n",
    "\n",
    "os_bc = (concrete_joint_table['BCMajRatio'] > BCC_threshold) | (concrete_joint_table['BCMinRatio'] > BCC_threshold)\n",
    "os_js = (concrete_joint_table['JSMajRatio'] > JS_threshold) | (concrete_joint_table['JSMinRatio'] > JS_threshold)\n",
    "os_joint = os_bc | os_js\n",
    "\n",
    "os_concrete_joint_table = concrete_joint_table[os_joint]\n",
    "\n",
    "for i in pd.Series(os_concrete_joint_table['UniqueName']).unique():\n",
    "    SapModel.FrameObj.SetSelected(str(i.item()),True)"
   ]
  },
  {
   "cell_type": "code",
   "execution_count": null,
   "id": "8c65b4c4-dffb-48d8-96bc-d5bbe03a7238",
   "metadata": {},
   "outputs": [],
   "source": []
  }
 ],
 "metadata": {
  "kernelspec": {
   "display_name": "Python 3 (ipykernel)",
   "language": "python",
   "name": "python3"
  },
  "language_info": {
   "codemirror_mode": {
    "name": "ipython",
    "version": 3
   },
   "file_extension": ".py",
   "mimetype": "text/x-python",
   "name": "python",
   "nbconvert_exporter": "python",
   "pygments_lexer": "ipython3",
   "version": "3.11.7"
  }
 },
 "nbformat": 4,
 "nbformat_minor": 5
}
