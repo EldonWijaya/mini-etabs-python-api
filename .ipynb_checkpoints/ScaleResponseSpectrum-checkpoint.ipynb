{
 "cells": [
  {
   "cell_type": "markdown",
   "id": "ed3bf8ad-b0c0-425a-9985-8f49b532ed95",
   "metadata": {},
   "source": [
    "# Scale response spectrum"
   ]
  },
  {
   "cell_type": "code",
   "execution_count": 2,
   "id": "c1ae2c60-1285-4fa4-b7f7-9e50ea2de9a0",
   "metadata": {},
   "outputs": [],
   "source": [
    "import pandas as pd\n",
    "import numpy as np\n",
    "import os \n",
    "import sys\n",
    "import comtypes.client"
   ]
  },
  {
   "cell_type": "code",
   "execution_count": 26,
   "id": "386c13d1-d458-4e8d-b9fc-53e80ea32a5f",
   "metadata": {},
   "outputs": [],
   "source": [
    "# user input\n",
    "\n",
    "rs_x_name = 'RS X'\n",
    "rs_y_name = 'RS Y'\n",
    "elf_x_name = 'Seismic ELF X'\n",
    "elf_y_name = 'Seismic ELF Y'\n",
    "\n",
    "load_cases = [rs_x_name, rs_y_name, elf_x_name, elf_y_name]"
   ]
  },
  {
   "cell_type": "code",
   "execution_count": 6,
   "id": "c80dd722-9ce3-4487-b0f7-9dfb32010e98",
   "metadata": {},
   "outputs": [
    {
     "name": "stdout",
     "output_type": "stream",
     "text": [
      "Succesfully created helper object\n",
      "Succesfully created SapModel\n"
     ]
    }
   ],
   "source": [
    "# Initialization of ETABSObject\n",
    "# create API helper object\n",
    "helper = comtypes.client.CreateObject(\"ETABSv1.Helper\")\n",
    "helper = helper.QueryInterface(comtypes.gen.ETABSv1.cHelper)\n",
    "print(\"Succesfully created helper object\")\n",
    "\n",
    "try:\n",
    "    #get the active ETABS object\n",
    "    ETABSObject = helper.GetObject(\"CSI.ETABS.API.ETABSObject\") \n",
    "    SapModel = ETABSObject.SapModel\n",
    "    print(\"Succesfully created SapModel\")\n",
    "except (OSError, comtypes.COMError):  \n",
    "    print(\"No running instance of the program found or failed to attach.\")\n",
    "    sys.exit(-1)\n"
   ]
  },
  {
   "cell_type": "code",
   "execution_count": 36,
   "id": "a284d724-0d6e-424e-bf23-d03136d9e1cb",
   "metadata": {},
   "outputs": [],
   "source": [
    "SapModel.Analyze.RunAnalysis()\n",
    "\n",
    "for i in load_cases:\n",
    "    SapModel.Results.Setup.SetCaseSelectedForOutput(i, True)"
   ]
  },
  {
   "cell_type": "code",
   "execution_count": 38,
   "id": "4f69e806-f1d3-47d2-939c-e24b0b35df79",
   "metadata": {},
   "outputs": [],
   "source": [
    "base_reactions = SapModel.Results.BaseReact()"
   ]
  },
  {
   "cell_type": "code",
   "execution_count": 52,
   "id": "2a71c059-0ac6-486d-b765-f944f72bfaeb",
   "metadata": {},
   "outputs": [],
   "source": [
    "load_cases_output = base_reactions[1]\n",
    "fx_output = base_reactions[4]\n",
    "fy_output = base_reactions[5]"
   ]
  },
  {
   "cell_type": "code",
   "execution_count": 50,
   "id": "b5252638-fe27-47fd-8917-cb94d4c112e6",
   "metadata": {},
   "outputs": [
    {
     "data": {
      "text/plain": [
       "(3.3203456150652526,\n",
       " 0.2322200260743459,\n",
       " -3.313944128741978,\n",
       " -1.4625804040102604e-14)"
      ]
     },
     "execution_count": 50,
     "metadata": {},
     "output_type": "execute_result"
    }
   ],
   "source": []
  },
  {
   "cell_type": "code",
   "execution_count": null,
   "id": "85df4e0e-0d3b-47a2-9fb6-0f3cbd3142a6",
   "metadata": {},
   "outputs": [],
   "source": []
  }
 ],
 "metadata": {
  "kernelspec": {
   "display_name": "Python 3 (ipykernel)",
   "language": "python",
   "name": "python3"
  },
  "language_info": {
   "codemirror_mode": {
    "name": "ipython",
    "version": 3
   },
   "file_extension": ".py",
   "mimetype": "text/x-python",
   "name": "python",
   "nbconvert_exporter": "python",
   "pygments_lexer": "ipython3",
   "version": "3.11.7"
  }
 },
 "nbformat": 4,
 "nbformat_minor": 5
}
