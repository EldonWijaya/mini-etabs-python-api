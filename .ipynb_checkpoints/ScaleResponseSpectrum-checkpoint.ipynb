{
 "cells": [
  {
   "cell_type": "markdown",
   "id": "ed3bf8ad-b0c0-425a-9985-8f49b532ed95",
   "metadata": {},
   "source": [
    "# Scale response spectrum"
   ]
  },
  {
   "cell_type": "code",
   "execution_count": 2,
   "id": "c1ae2c60-1285-4fa4-b7f7-9e50ea2de9a0",
   "metadata": {},
   "outputs": [],
   "source": [
    "import pandas as pd\n",
    "import numpy as np\n",
    "import os \n",
    "import sys\n",
    "import comtypes.client"
   ]
  },
  {
   "cell_type": "markdown",
   "id": "3a426c57-b454-420a-becd-f43581f6f41c",
   "metadata": {},
   "source": [
    "## Input names of load cases here\n",
    "Run the rest of the code"
   ]
  },
  {
   "cell_type": "code",
   "execution_count": 27,
   "id": "2309bc07-bd8a-4e1a-8927-92aae13732bc",
   "metadata": {},
   "outputs": [
    {
     "name": "stdout",
     "output_type": "stream",
     "text": [
      "Succesfully created helper object\n",
      "Succesfully created SapModel\n",
      "X scaled to : 0.9999999999999998\n",
      "Y scaled to : 0.9999999999999999\n"
     ]
    }
   ],
   "source": [
    "# user input\n",
    "\n",
    "rs_x_name = 'RS X'\n",
    "rs_y_name = 'RS Y'\n",
    "elf_x_name = 'Seismic ELF X'\n",
    "elf_y_name = 'Seismic ELF Y'\n",
    "\n",
    "load_cases = [rs_x_name, rs_y_name, elf_x_name, elf_y_name]\n",
    "\n",
    "# Initialization of ETABSObject\n",
    "# create API helper object\n",
    "helper = comtypes.client.CreateObject(\"ETABSv1.Helper\")\n",
    "helper = helper.QueryInterface(comtypes.gen.ETABSv1.cHelper)\n",
    "print(\"Succesfully created helper object\")\n",
    "\n",
    "try:\n",
    "    #get the active ETABS object\n",
    "    ETABSObject = helper.GetObject(\"CSI.ETABS.API.ETABSObject\") \n",
    "    SapModel = ETABSObject.SapModel\n",
    "    print(\"Succesfully created SapModel\")\n",
    "except (OSError, comtypes.COMError):  \n",
    "    print(\"No running instance of the program found or failed to attach.\")\n",
    "    sys.exit(-1)\n",
    "\n",
    "\n",
    "SapModel.Analyze.RunAnalysis()\n",
    "\n",
    "for i in load_cases:\n",
    "    SapModel.Results.Setup.SetCaseSelectedForOutput(i, True)\n",
    "\n",
    "base_reactions = SapModel.Results.BaseReact()\n",
    "\n",
    "load_cases_output = base_reactions[1]\n",
    "fx_output = base_reactions[4]\n",
    "fy_output = base_reactions[5]\n",
    "\n",
    "fx_elf = fx_output[load_cases_output.index(elf_x_name)]\n",
    "fy_elf = fy_output[load_cases_output.index(elf_y_name)]\n",
    "fx_rs = fx_output[load_cases_output.index(rs_x_name)]\n",
    "fy_rs = fy_output[load_cases_output.index(rs_y_name)]\n",
    "\n",
    "sf_x = abs(fx_elf/fx_rs)\n",
    "sf_y = abs(fy_elf/fy_rs)\n",
    "\n",
    "rs_x_data = SapModel.LoadCases.ResponseSpectrum.GetLoads(rs_x_name)\n",
    "rs_y_data = SapModel.LoadCases.ResponseSpectrum.GetLoads(rs_y_name)\n",
    "#rs_x_data[3][0] = rs_x_data[3][0]*sf_x\n",
    "#rs_y_data[3][0] = rs_y_data[3][0]*sf_y\n",
    "rs_x_data[3] = tuple(np.array(rs_x_data[3])*sf_x)\n",
    "rs_y_data[3] = tuple(np.array(rs_y_data[3])*sf_y)\n",
    "\n",
    "retx = SapModel.LoadCases.ResponseSpectrum.SetLoads(rs_x_name,rs_x_data[0],rs_x_data[1],rs_x_data[2],rs_x_data[3],rs_x_data[4],rs_x_data[5])\n",
    "rety = SapModel.LoadCases.ResponseSpectrum.SetLoads(rs_y_name,rs_y_data[0],rs_y_data[1],rs_y_data[2],rs_y_data[3],rs_y_data[4],rs_y_data[5])\n",
    "SapModel.Analyze.RunAnalysis()\n",
    "\n",
    "print(f'X scaled to : {sf_x}')\n",
    "print(f'Y scaled to : {sf_y}')"
   ]
  },
  {
   "cell_type": "code",
   "execution_count": null,
   "id": "e76a39f2-796b-4ed6-ab7c-d1a6ee6e1148",
   "metadata": {},
   "outputs": [],
   "source": []
  }
 ],
 "metadata": {
  "kernelspec": {
   "display_name": "Python 3 (ipykernel)",
   "language": "python",
   "name": "python3"
  },
  "language_info": {
   "codemirror_mode": {
    "name": "ipython",
    "version": 3
   },
   "file_extension": ".py",
   "mimetype": "text/x-python",
   "name": "python",
   "nbconvert_exporter": "python",
   "pygments_lexer": "ipython3",
   "version": "3.11.7"
  }
 },
 "nbformat": 4,
 "nbformat_minor": 5
}
