{
 "cells": [
  {
   "cell_type": "code",
   "execution_count": 3,
   "id": "ab72701e-7835-43f5-8113-19a0ce877237",
   "metadata": {},
   "outputs": [],
   "source": [
    "import lib.csiapi as csiapi\n",
    "import lib.beam as beam\n",
    "import lib.util as util\n",
    "import pandas as pd\n",
    "\n",
    "%load_ext autoreload\n",
    "%autoreload 2"
   ]
  },
  {
   "cell_type": "code",
   "execution_count": 5,
   "id": "4b7664a3-9bd8-41b1-adab-10eccff50e72",
   "metadata": {
    "editable": true,
    "slideshow": {
     "slide_type": ""
    },
    "tags": []
   },
   "outputs": [
    {
     "name": "stdout",
     "output_type": "stream",
     "text": [
      "Succesfully created helper object\n",
      "Succesfully created SapModel\n"
     ]
    }
   ],
   "source": [
    "ETABSObject, SapModel = csiapi.get_active_etabs_object()"
   ]
  },
  {
   "cell_type": "code",
   "execution_count": 16,
   "id": "4f23ed9d-fad4-4546-8c12-65b519a24a80",
   "metadata": {
    "editable": true,
    "slideshow": {
     "slide_type": ""
    },
    "tags": []
   },
   "outputs": [
    {
     "data": {
      "text/plain": [
       "0"
      ]
     },
     "execution_count": 16,
     "metadata": {},
     "output_type": "execute_result"
    }
   ],
   "source": [
    "SapModel.Analyze.RunAnalysis()\n",
    "SapModel.DesignConcrete.StartDesign()"
   ]
  },
  {
   "cell_type": "code",
   "execution_count": 88,
   "id": "826dae8c-c0a6-4fdf-8d54-c248a0456537",
   "metadata": {},
   "outputs": [],
   "source": [
    "db = csiapi.get_table_display(SapModel, 'Concrete Beam Design Summary - ACI 318-14', '01_SMF')"
   ]
  },
  {
   "cell_type": "code",
   "execution_count": 98,
   "id": "a709b025-f37c-4516-860d-cc277324db21",
   "metadata": {},
   "outputs": [],
   "source": [
    "beam.assign_beam_stations(db)"
   ]
  },
  {
   "cell_type": "code",
   "execution_count": 110,
   "id": "f3cbcbcf-dff8-4bdc-acfc-572ef8874f55",
   "metadata": {},
   "outputs": [
    {
     "data": {
      "text/plain": [
       "array([111, 112, 113, 242, 190, 196, 205, 142, 123, 209, 199, 227, 132,\n",
       "       216, 234,  33, 149,  29, 156, 257, 265, 163, 114,  46, 115, 243,\n",
       "         8, 197, 206, 170, 143, 124, 210, 200,  18, 133, 134, 248, 217,\n",
       "       235,  34, 176, 150, 221, 186, 252, 181, 157, 258, 266, 164,  52,\n",
       "        47,  48, 244, 191, 198, 207, 171, 144, 125, 211, 201, 228, 135,\n",
       "       136, 249,  27, 236,  35, 177, 151, 222,   6, 253, 182, 158, 259,\n",
       "       267, 165, 116, 117, 118, 245, 192,  76, 208, 172, 145, 126, 212,\n",
       "        11, 229, 137, 138, 250, 218, 237,  36, 178, 152, 223, 187, 254,\n",
       "       183, 159, 260, 268, 166,  89,  88,  92,  93,  51, 119, 120, 246,\n",
       "       193,  77,  16,  12,  15, 173, 146, 127, 213, 202, 230, 139, 140,\n",
       "       251, 219, 238,  37, 179, 153, 224, 188, 255, 184, 160, 261, 269,\n",
       "       167, 108, 109, 110, 241, 194,  78,  13,  99, 174, 147, 122, 214,\n",
       "       203, 231, 130, 131, 247, 220, 239, 226, 180, 154,  30, 189, 256,\n",
       "       185, 161, 262, 270, 168, 106, 107, 240,   7, 195, 204, 169, 141,\n",
       "       121,  14,  79,  17, 128, 129, 263, 215, 233, 225, 175, 148,  28,\n",
       "         5, 264, 232, 155, 101, 271, 162], dtype=int64)"
      ]
     },
     "execution_count": 110,
     "metadata": {},
     "output_type": "execute_result"
    }
   ],
   "source": [
    "db.UniqueName.unique()"
   ]
  },
  {
   "cell_type": "code",
   "execution_count": 144,
   "id": "1f9d1cc7-d16d-4a6a-a21f-2a9ca6ba7709",
   "metadata": {},
   "outputs": [],
   "source": [
    "db1 = (db[['UniqueName', 'AsTopTotal', 'AsBotTotal', 'AtTrnTotal', 'Location']]\n",
    " .groupby(['UniqueName', 'Location'])\n",
    " .max()\n",
    ")"
   ]
  },
  {
   "cell_type": "code",
   "execution_count": 146,
   "id": "e7eb5619-fd37-41ac-bf55-222fcff871ea",
   "metadata": {},
   "outputs": [],
   "source": [
    "util.open_as_csv(db1)"
   ]
  },
  {
   "cell_type": "code",
   "execution_count": 235,
   "id": "37535189-f354-4fd5-a6c8-0b98fa2f1201",
   "metadata": {},
   "outputs": [],
   "source": [
    "forces_df = csiapi.get_table_display(SapModel, 'Element Forces - Beams', Group = '01_SMF')\n",
    "frameassign_df = csiapi.get_table_display(SapModel, 'Frame Assignments - Summary', Group = '01_SMF')\n",
    "\n",
    "frameassign_df = frameassign_df[['UniqueName','Design Section']]\n",
    "\n",
    "forces_df = pd.merge(forces_df,frameassign_df, left_on='Unique Name', right_on = 'UniqueName')\n",
    "forces_df.columns = forces_df.columns.str.replace(' ','')\n",
    "forces_df = forces_df.rename(columns={'DesignSection':'DesignSect'})"
   ]
  },
  {
   "cell_type": "code",
   "execution_count": 236,
   "id": "184456bf-1240-4c6c-9194-caa7582c9dbc",
   "metadata": {},
   "outputs": [
    {
     "data": {
      "text/plain": [
       "0        G202\n",
       "1        G202\n",
       "2        G202\n",
       "3        G202\n",
       "4        G202\n",
       "         ... \n",
       "11331      G1\n",
       "11332      G1\n",
       "11333      G1\n",
       "11334      G1\n",
       "11335      G1\n",
       "Name: DesignSect, Length: 11336, dtype: object"
      ]
     },
     "execution_count": 236,
     "metadata": {},
     "output_type": "execute_result"
    }
   ],
   "source": [
    "forces_df['DesignSect']"
   ]
  },
  {
   "cell_type": "code",
   "execution_count": 248,
   "id": "c726e2e7-4afa-44ef-afb0-6949382fef65",
   "metadata": {},
   "outputs": [
    {
     "ename": "KeyError",
     "evalue": "0",
     "output_type": "error",
     "traceback": [
      "\u001b[1;31m---------------------------------------------------------------------------\u001b[0m",
      "\u001b[1;31mTypeError\u001b[0m                                 Traceback (most recent call last)",
      "File \u001b[1;32mindex.pyx:219\u001b[0m, in \u001b[0;36mpandas._libs.index.IndexEngine._get_loc_duplicates\u001b[1;34m()\u001b[0m\n",
      "\u001b[1;31mTypeError\u001b[0m: '<' not supported between instances of 'str' and 'int'",
      "\nDuring handling of the above exception, another exception occurred:\n",
      "\u001b[1;31mKeyError\u001b[0m                                  Traceback (most recent call last)",
      "File \u001b[1;32m~\\anaconda3\\Lib\\site-packages\\pandas\\core\\indexes\\base.py:3805\u001b[0m, in \u001b[0;36mIndex.get_loc\u001b[1;34m(self, key)\u001b[0m\n\u001b[0;32m   3804\u001b[0m \u001b[38;5;28;01mtry\u001b[39;00m:\n\u001b[1;32m-> 3805\u001b[0m     \u001b[38;5;28;01mreturn\u001b[39;00m \u001b[38;5;28mself\u001b[39m\u001b[38;5;241m.\u001b[39m_engine\u001b[38;5;241m.\u001b[39mget_loc(casted_key)\n\u001b[0;32m   3806\u001b[0m \u001b[38;5;28;01mexcept\u001b[39;00m \u001b[38;5;167;01mKeyError\u001b[39;00m \u001b[38;5;28;01mas\u001b[39;00m err:\n",
      "File \u001b[1;32mindex.pyx:167\u001b[0m, in \u001b[0;36mpandas._libs.index.IndexEngine.get_loc\u001b[1;34m()\u001b[0m\n",
      "File \u001b[1;32mindex.pyx:191\u001b[0m, in \u001b[0;36mpandas._libs.index.IndexEngine.get_loc\u001b[1;34m()\u001b[0m\n",
      "File \u001b[1;32mindex.pyx:224\u001b[0m, in \u001b[0;36mpandas._libs.index.IndexEngine._get_loc_duplicates\u001b[1;34m()\u001b[0m\n",
      "\u001b[1;31mKeyError\u001b[0m: 0",
      "\nThe above exception was the direct cause of the following exception:\n",
      "\u001b[1;31mKeyError\u001b[0m                                  Traceback (most recent call last)",
      "Cell \u001b[1;32mIn[248], line 1\u001b[0m\n\u001b[1;32m----> 1\u001b[0m beam\u001b[38;5;241m.\u001b[39massign_beam_stations(forces_df)\n",
      "File \u001b[1;32m~\\Documents\\Projects\\Jupyter\\lib\\beam.py:17\u001b[0m, in \u001b[0;36massign_beam_stations\u001b[1;34m(db, cantilever_prefix, girder_prefix, beam_prefix)\u001b[0m\n\u001b[0;32m     14\u001b[0m reinforcement_location \u001b[38;5;241m=\u001b[39m []\n\u001b[0;32m     15\u001b[0m \u001b[38;5;28;01mfor\u001b[39;00m idx \u001b[38;5;129;01min\u001b[39;00m \u001b[38;5;28mrange\u001b[39m(\u001b[38;5;28mlen\u001b[39m(beam_unique_name)):\n\u001b[0;32m     16\u001b[0m \u001b[38;5;66;03m# for i in range(1):\u001b[39;00m\n\u001b[1;32m---> 17\u001b[0m     i \u001b[38;5;241m=\u001b[39m beam_unique_name[idx]\n\u001b[0;32m     18\u001b[0m     local_beam_station \u001b[38;5;241m=\u001b[39m beam_station[idx]\n\u001b[0;32m     19\u001b[0m     local_design_sect \u001b[38;5;241m=\u001b[39m beam_design_sect[idx]\n",
      "File \u001b[1;32m~\\anaconda3\\Lib\\site-packages\\pandas\\core\\frame.py:4102\u001b[0m, in \u001b[0;36mDataFrame.__getitem__\u001b[1;34m(self, key)\u001b[0m\n\u001b[0;32m   4100\u001b[0m \u001b[38;5;28;01mif\u001b[39;00m \u001b[38;5;28mself\u001b[39m\u001b[38;5;241m.\u001b[39mcolumns\u001b[38;5;241m.\u001b[39mnlevels \u001b[38;5;241m>\u001b[39m \u001b[38;5;241m1\u001b[39m:\n\u001b[0;32m   4101\u001b[0m     \u001b[38;5;28;01mreturn\u001b[39;00m \u001b[38;5;28mself\u001b[39m\u001b[38;5;241m.\u001b[39m_getitem_multilevel(key)\n\u001b[1;32m-> 4102\u001b[0m indexer \u001b[38;5;241m=\u001b[39m \u001b[38;5;28mself\u001b[39m\u001b[38;5;241m.\u001b[39mcolumns\u001b[38;5;241m.\u001b[39mget_loc(key)\n\u001b[0;32m   4103\u001b[0m \u001b[38;5;28;01mif\u001b[39;00m is_integer(indexer):\n\u001b[0;32m   4104\u001b[0m     indexer \u001b[38;5;241m=\u001b[39m [indexer]\n",
      "File \u001b[1;32m~\\anaconda3\\Lib\\site-packages\\pandas\\core\\indexes\\base.py:3812\u001b[0m, in \u001b[0;36mIndex.get_loc\u001b[1;34m(self, key)\u001b[0m\n\u001b[0;32m   3807\u001b[0m     \u001b[38;5;28;01mif\u001b[39;00m \u001b[38;5;28misinstance\u001b[39m(casted_key, \u001b[38;5;28mslice\u001b[39m) \u001b[38;5;129;01mor\u001b[39;00m (\n\u001b[0;32m   3808\u001b[0m         \u001b[38;5;28misinstance\u001b[39m(casted_key, abc\u001b[38;5;241m.\u001b[39mIterable)\n\u001b[0;32m   3809\u001b[0m         \u001b[38;5;129;01mand\u001b[39;00m \u001b[38;5;28many\u001b[39m(\u001b[38;5;28misinstance\u001b[39m(x, \u001b[38;5;28mslice\u001b[39m) \u001b[38;5;28;01mfor\u001b[39;00m x \u001b[38;5;129;01min\u001b[39;00m casted_key)\n\u001b[0;32m   3810\u001b[0m     ):\n\u001b[0;32m   3811\u001b[0m         \u001b[38;5;28;01mraise\u001b[39;00m InvalidIndexError(key)\n\u001b[1;32m-> 3812\u001b[0m     \u001b[38;5;28;01mraise\u001b[39;00m \u001b[38;5;167;01mKeyError\u001b[39;00m(key) \u001b[38;5;28;01mfrom\u001b[39;00m \u001b[38;5;21;01merr\u001b[39;00m\n\u001b[0;32m   3813\u001b[0m \u001b[38;5;28;01mexcept\u001b[39;00m \u001b[38;5;167;01mTypeError\u001b[39;00m:\n\u001b[0;32m   3814\u001b[0m     \u001b[38;5;66;03m# If we have a listlike key, _check_indexing_error will raise\u001b[39;00m\n\u001b[0;32m   3815\u001b[0m     \u001b[38;5;66;03m#  InvalidIndexError. Otherwise we fall through and re-raise\u001b[39;00m\n\u001b[0;32m   3816\u001b[0m     \u001b[38;5;66;03m#  the TypeError.\u001b[39;00m\n\u001b[0;32m   3817\u001b[0m     \u001b[38;5;28mself\u001b[39m\u001b[38;5;241m.\u001b[39m_check_indexing_error(key)\n",
      "\u001b[1;31mKeyError\u001b[0m: 0"
     ]
    }
   ],
   "source": [
    "beam.assign_beam_stations(forces_df)"
   ]
  }
 ],
 "metadata": {
  "kernelspec": {
   "display_name": "Python 3 (ipykernel)",
   "language": "python",
   "name": "python3"
  },
  "language_info": {
   "codemirror_mode": {
    "name": "ipython",
    "version": 3
   },
   "file_extension": ".py",
   "mimetype": "text/x-python",
   "name": "python",
   "nbconvert_exporter": "python",
   "pygments_lexer": "ipython3",
   "version": "3.11.7"
  }
 },
 "nbformat": 4,
 "nbformat_minor": 5
}
