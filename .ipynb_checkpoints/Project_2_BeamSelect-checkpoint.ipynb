{
 "cells": [
  {
   "cell_type": "markdown",
   "id": "33768369-7e90-45ce-80d4-8b9ba4fc8443",
   "metadata": {},
   "source": [
    "# Selects concrete beams with over a certain amount of reinforcement in percentage"
   ]
  },
  {
   "cell_type": "code",
   "execution_count": 5,
   "id": "c1ae2c60-1285-4fa4-b7f7-9e50ea2de9a0",
   "metadata": {},
   "outputs": [
    {
     "name": "stdout",
     "output_type": "stream",
     "text": [
      "The autoreload extension is already loaded. To reload it, use:\n",
      "  %reload_ext autoreload\n"
     ]
    }
   ],
   "source": [
    "import pandas as pd\n",
    "import numpy as np\n",
    "import os\n",
    "import sys\n",
    "import comtypes.client\n",
    "import lib.csiapi\n",
    "\n",
    "import json\n",
    "import tkinter as tk\n",
    "from tkinter import filedialog\n",
    "import lib.csiapi as csiapi\n",
    "\n",
    "%load_ext autoreload\n",
    "%autoreload 2"
   ]
  },
  {
   "cell_type": "code",
   "execution_count": 2,
   "id": "c80dd722-9ce3-4487-b0f7-9dfb32010e98",
   "metadata": {},
   "outputs": [
    {
     "name": "stdout",
     "output_type": "stream",
     "text": [
      "Succesfully created helper object\n",
      "Succesfully created SapModel\n"
     ]
    }
   ],
   "source": [
    "# Initialization of ETABSObject\n",
    "\"\"\"\n",
    "ETABS_path_exe = r'C:/Program Files/Computers and Structures/ETABS 21_2/ETABS.exe'\n",
    "if not os.path.isfile(ETABS_path_exe):\n",
    "    root = tk.Tk()\n",
    "    root.withdraw()\n",
    "    ETABS_path = filedialog.askopenfilename(parent=root)\n",
    "    root.destroy()\n",
    "\"\"\"\n",
    "# create API helper object\n",
    "helper = comtypes.client.CreateObject(\"ETABSv1.Helper\")\n",
    "helper = helper.QueryInterface(comtypes.gen.ETABSv1.cHelper)\n",
    "print(\"Succesfully created helper object\")\n",
    "\n",
    "try:\n",
    "    #get the active ETABS object\n",
    "    ETABSObject = helper.GetObject(\"CSI.ETABS.API.ETABSObject\") \n",
    "    SapModel = ETABSObject.SapModel\n",
    "    print(\"Succesfully created SapModel\")\n",
    "except (OSError, comtypes.COMError):  \n",
    "    print(\"No running instance of the program found or failed to attach.\")\n",
    "    sys.exit(-1)\n",
    "\n",
    "# create folder for temporary csv files\n",
    "csv_folder_path = os.getcwd() + r'\\csv'\n",
    "if not os.path.exists(csv_folder_path):\n",
    "    os.makedirs(csv_folder_path)\n"
   ]
  },
  {
   "cell_type": "code",
   "execution_count": 26,
   "id": "201f0a94-a565-409b-9283-49a8aa9e9d5b",
   "metadata": {},
   "outputs": [
    {
     "data": {
      "text/plain": [
       "0"
      ]
     },
     "execution_count": 26,
     "metadata": {},
     "output_type": "execute_result"
    }
   ],
   "source": [
    "SapModel.Analyze.RunAnalysis()\n",
    "SapModel.DesignConcrete.StartDesign()"
   ]
  },
  {
   "cell_type": "code",
   "execution_count": 119,
   "id": "960807a4-1e56-4fd8-a911-7e8839230481",
   "metadata": {},
   "outputs": [],
   "source": [
    "as_percent_threshold = 1.2\n",
    "\n",
    "table_key = 'Frame Section Property Definitions - Summary'\n",
    "table = csiapi.get_table_display(SapModel,table_key)\n",
    "table_simple = table[['Name','Material','Area']]\n",
    "table_key = 'Concrete Beam Design Summary - ACI 318-19'\n",
    "table2 = csiapi.get_table_display(SapModel,table_key)\n",
    "table2_simple = table2[['Story','Label','UniqueName','DesignSect','Station','AsTopTotal','AsBotTotal','AtTrnTotal']]\n",
    "\n",
    "newtable = table2_simple.merge(table_simple, left_on = 'DesignSect', right_on = 'Name')\n",
    "\n",
    "newtable['AsTopPercentage'] = newtable['AsTopTotal'].div(newtable['Area'])*100\n",
    "newtable['AsBotPercentage'] = newtable['AsBotTotal'].div(newtable['Area'])*100\n",
    "\n",
    "as_exceeds_threshold_table = newtable[(newtable['AsTopPercentage'] > as_percent_threshold) | (newtable['AsBotPercentage'] > as_percent_threshold)]\n",
    "\n",
    "uniquenames = pd.Series(as_exceeds_threshold_table['UniqueName']).unique()\n",
    "\n",
    "# uniquenamelist = uniquenames.to_numpy()\n",
    "for i in uniquenames:\n",
    "    ret = SapModel.FrameObj.SetSelected(str(i.item()),True)"
   ]
  },
  {
   "cell_type": "code",
   "execution_count": null,
   "id": "15f0e686-76f5-420f-8983-cb37f64d2fbe",
   "metadata": {},
   "outputs": [],
   "source": []
  }
 ],
 "metadata": {
  "kernelspec": {
   "display_name": "Python 3 (ipykernel)",
   "language": "python",
   "name": "python3"
  },
  "language_info": {
   "codemirror_mode": {
    "name": "ipython",
    "version": 3
   },
   "file_extension": ".py",
   "mimetype": "text/x-python",
   "name": "python",
   "nbconvert_exporter": "python",
   "pygments_lexer": "ipython3",
   "version": "3.11.7"
  }
 },
 "nbformat": 4,
 "nbformat_minor": 5
}
