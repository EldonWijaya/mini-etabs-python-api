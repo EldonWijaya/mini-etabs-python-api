{
 "cells": [
  {
   "cell_type": "code",
   "execution_count": 8,
   "id": "29619942-6f5b-4f94-9545-c2f5d96b9064",
   "metadata": {},
   "outputs": [
    {
     "ename": "ModuleNotFoundError",
     "evalue": "No module named 'csiapi'",
     "output_type": "error",
     "traceback": [
      "\u001b[1;31m---------------------------------------------------------------------------\u001b[0m",
      "\u001b[1;31mModuleNotFoundError\u001b[0m                       Traceback (most recent call last)",
      "Cell \u001b[1;32mIn[8], line 7\u001b[0m\n\u001b[0;32m      5\u001b[0m \u001b[38;5;28;01mimport\u001b[39;00m \u001b[38;5;21;01mxlsxwriter\u001b[39;00m\n\u001b[0;32m      6\u001b[0m \u001b[38;5;28;01mimport\u001b[39;00m \u001b[38;5;21;01mlib\u001b[39;00m\u001b[38;5;21;01m.\u001b[39;00m\u001b[38;5;21;01mcsiapi\u001b[39;00m \u001b[38;5;28;01mas\u001b[39;00m \u001b[38;5;21;01mcsiapi\u001b[39;00m\n\u001b[1;32m----> 7\u001b[0m \u001b[38;5;28;01mimport\u001b[39;00m \u001b[38;5;21;01mlib\u001b[39;00m\u001b[38;5;21;01m.\u001b[39;00m\u001b[38;5;21;01mbeam\u001b[39;00m \u001b[38;5;28;01mas\u001b[39;00m \u001b[38;5;21;01mbeam\u001b[39;00m\n\u001b[0;32m     10\u001b[0m get_ipython()\u001b[38;5;241m.\u001b[39mrun_line_magic(\u001b[38;5;124m'\u001b[39m\u001b[38;5;124mload_ext\u001b[39m\u001b[38;5;124m'\u001b[39m, \u001b[38;5;124m'\u001b[39m\u001b[38;5;124mautoreload\u001b[39m\u001b[38;5;124m'\u001b[39m)\n\u001b[0;32m     11\u001b[0m get_ipython()\u001b[38;5;241m.\u001b[39mrun_line_magic(\u001b[38;5;124m'\u001b[39m\u001b[38;5;124mautoreload\u001b[39m\u001b[38;5;124m'\u001b[39m, \u001b[38;5;124m'\u001b[39m\u001b[38;5;124m2\u001b[39m\u001b[38;5;124m'\u001b[39m)\n",
      "File \u001b[1;32m~\\Documents\\Projects\\Jupyter\\lib\\beam.py:1\u001b[0m\n\u001b[1;32m----> 1\u001b[0m \u001b[38;5;28;01mimport\u001b[39;00m \u001b[38;5;21;01mcsiapi\u001b[39;00m \u001b[38;5;28;01mas\u001b[39;00m \u001b[38;5;21;01mcsiapi\u001b[39;00m\n\u001b[0;32m      3\u001b[0m \u001b[38;5;66;03m# Assinging locations to beams\u001b[39;00m\n\u001b[0;32m      4\u001b[0m \u001b[38;5;28;01mdef\u001b[39;00m \u001b[38;5;21massign_beam_stations\u001b[39m(df, cantilever_prefix \u001b[38;5;241m=\u001b[39m \u001b[38;5;124m'\u001b[39m\u001b[38;5;124mCL\u001b[39m\u001b[38;5;124m'\u001b[39m, girder_prefix \u001b[38;5;241m=\u001b[39m \u001b[38;5;124m'\u001b[39m\u001b[38;5;124mG\u001b[39m\u001b[38;5;124m'\u001b[39m, beam_prefix \u001b[38;5;241m=\u001b[39m \u001b[38;5;124m'\u001b[39m\u001b[38;5;124mB\u001b[39m\u001b[38;5;124m'\u001b[39m):\n",
      "\u001b[1;31mModuleNotFoundError\u001b[0m: No module named 'csiapi'"
     ]
    }
   ],
   "source": [
    "import pandas as pd\n",
    "import tempfile\n",
    "import os\n",
    "import xlsxwriter\n",
    "import lib.csiapi as csiapi\n",
    "import lib.beam as beam\n",
    "import lib.util\n",
    "\n",
    "%load_ext autoreload\n",
    "%autoreload 2"
   ]
  },
  {
   "cell_type": "code",
   "execution_count": 15,
   "id": "a8606e1e-9852-4d82-9c2a-73d390cf8256",
   "metadata": {},
   "outputs": [],
   "source": [
    "df = pd.DataFrame(['1', '2', '3'])"
   ]
  },
  {
   "cell_type": "code",
   "execution_count": 63,
   "id": "d397736d-51d9-4ecf-800b-ca03b2891ea8",
   "metadata": {},
   "outputs": [],
   "source": [
    "def open_as_excel(*args):\n",
    "    with tempfile.NamedTemporaryFile(suffix='.xlsx', delete=False) as tmp:\n",
    "        tmp_name = tmp.name\n",
    "    with pd.ExcelWriter(tmp_name, engine='xlsxwriter') as writer:\n",
    "        for i, df in enumerate(args, start=1):\n",
    "            sheet_name_i = f'Sheet{i}'\n",
    "            df.to_excel(writer, sheet_name=sheet_name_i, index=False)\n",
    "    os.startfile(tmp_name)\n"
   ]
  },
  {
   "cell_type": "code",
   "execution_count": 4,
   "id": "46cb93fb-f22f-444c-a4b7-5722586a4aca",
   "metadata": {},
   "outputs": [
    {
     "name": "stdout",
     "output_type": "stream",
     "text": [
      "Succesfully created helper object\n",
      "Succesfully created SapModel\n"
     ]
    }
   ],
   "source": [
    "ETABSObject, SapModel = csiapi.get_active_etabs_object()"
   ]
  },
  {
   "cell_type": "code",
   "execution_count": 109,
   "id": "6b1211fa-91b0-4c46-ba50-069e0c4c8275",
   "metadata": {},
   "outputs": [],
   "source": [
    "all_frames = SapModel.FrameObj.GetAllFrames()[1]"
   ]
  },
  {
   "cell_type": "code",
   "execution_count": null,
   "id": "f2388321-7e21-4fae-87ac-918712f817f3",
   "metadata": {},
   "outputs": [],
   "source": [
    "for i in all_frames:\n",
    "    type = SapModel.DesignConcrete.ACI318_08_IBC2009.GetOverwrite(i,1)\n",
    "    if type[0] == 1:\n",
    "        SapModel.FrameObj.SetSelected(i,True)"
   ]
  },
  {
   "cell_type": "code",
   "execution_count": 6,
   "id": "fa588c00-a562-4b16-9b7c-aa2145315c79",
   "metadata": {},
   "outputs": [
    {
     "ename": "NameError",
     "evalue": "name 'beam' is not defined",
     "output_type": "error",
     "traceback": [
      "\u001b[1;31m---------------------------------------------------------------------------\u001b[0m",
      "\u001b[1;31mNameError\u001b[0m                                 Traceback (most recent call last)",
      "Cell \u001b[1;32mIn[6], line 1\u001b[0m\n\u001b[1;32m----> 1\u001b[0m beam\u001b[38;5;241m.\u001b[39mremove_beam_labels(SapModel)\n",
      "\u001b[1;31mNameError\u001b[0m: name 'beam' is not defined"
     ]
    }
   ],
   "source": [
    "beam.remove_beam_labels(SapModel)"
   ]
  }
 ],
 "metadata": {
  "kernelspec": {
   "display_name": "Python 3 (ipykernel)",
   "language": "python",
   "name": "python3"
  },
  "language_info": {
   "codemirror_mode": {
    "name": "ipython",
    "version": 3
   },
   "file_extension": ".py",
   "mimetype": "text/x-python",
   "name": "python",
   "nbconvert_exporter": "python",
   "pygments_lexer": "ipython3",
   "version": "3.11.7"
  }
 },
 "nbformat": 4,
 "nbformat_minor": 5
}
