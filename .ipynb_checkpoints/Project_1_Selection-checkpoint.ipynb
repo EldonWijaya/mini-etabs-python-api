{
 "cells": [
  {
   "cell_type": "markdown",
   "id": "ed3bf8ad-b0c0-425a-9985-8f49b532ed95",
   "metadata": {},
   "source": [
    "# Frame selector #"
   ]
  },
  {
   "cell_type": "code",
   "execution_count": 3,
   "id": "c1ae2c60-1285-4fa4-b7f7-9e50ea2de9a0",
   "metadata": {},
   "outputs": [],
   "source": [
    "import pandas as pd\n",
    "import numpy as np\n",
    "import os, sys\n",
    "import comtypes.client\n",
    "import lib.csiapi as csiapi\n",
    "\n",
    "import json\n",
    "import tkinter as tk\n",
    "from tkinter import filedialog"
   ]
  },
  {
   "cell_type": "code",
   "execution_count": 7,
   "id": "500960e7-de5c-4c63-977c-327853adf460",
   "metadata": {},
   "outputs": [
    {
     "name": "stdout",
     "output_type": "stream",
     "text": [
      "Succesfully created helper object\n",
      "Succesfully created SapModel\n"
     ]
    }
   ],
   "source": [
    "ETABSObject, SapModel = csiapi.get_active_etabs_object()"
   ]
  },
  {
   "cell_type": "code",
   "execution_count": 53,
   "id": "c80dd722-9ce3-4487-b0f7-9dfb32010e98",
   "metadata": {},
   "outputs": [
    {
     "name": "stdout",
     "output_type": "stream",
     "text": [
      "Succesfully created helper object\n",
      "Succesfully created SapModel\n"
     ]
    }
   ],
   "source": [
    "# Initialization of ETABSObject\n",
    "\"\"\"\n",
    "ETABS_path_exe = 'C:/Program Files/Computers and Structures/ETABS 21_2/ETABS.exe'\n",
    "if not os.path.isfile(ETABS_path_exe):\n",
    "    root = tk.Tk()\n",
    "    root.withdraw()\n",
    "    ETABS_path = filedialog.askopenfilename(parent=root)\n",
    "    root.destroy()\n",
    "\"\"\"\n",
    "# create API helper object\n",
    "helper = comtypes.client.CreateObject(\"ETABSv1.Helper\")\n",
    "helper = helper.QueryInterface(comtypes.gen.ETABSv1.cHelper)\n",
    "print(\"Succesfully created helper object\")\n",
    "\n",
    "try:\n",
    "    #get the active ETABS object\n",
    "    ETABSObject = helper.GetObject(\"CSI.ETABS.API.ETABSObject\") \n",
    "    SapModel = ETABSObject.SapModel\n",
    "    print(\"Succesfully created SapModel\")\n",
    "except (OSError, comtypes.COMError):  \n",
    "    print(\"No running instance of the program found or failed to attach.\")\n",
    "    sys.exit(-1)\n"
   ]
  },
  {
   "cell_type": "code",
   "execution_count": 11,
   "id": "326d9279-af5c-4f12-9a0b-4aa17bf6c43c",
   "metadata": {},
   "outputs": [],
   "source": [
    "filepath = \"selection.csv\"\n",
    "try:\n",
    "    # open(newfile, \"w\")\n",
    "    df.to_csv(filepath)\n",
    "except: []\n",
    "os.startfile(filepath)"
   ]
  },
  {
   "cell_type": "code",
   "execution_count": 13,
   "id": "2a71c059-0ac6-486d-b765-f944f72bfaeb",
   "metadata": {},
   "outputs": [],
   "source": [
    "data = pd.read_csv(filepath)\n",
    "uniquenamelist = data.to_numpy()\n",
    "\n",
    "for i in uniquenamelist:\n",
    "    ret = SapModel.FrameObj.SetSelected(str(i.item()),True)"
   ]
  },
  {
   "cell_type": "code",
   "execution_count": null,
   "id": "311fd3c8-8841-4fd9-afd7-79b286b5e684",
   "metadata": {},
   "outputs": [],
   "source": []
  }
 ],
 "metadata": {
  "kernelspec": {
   "display_name": "Python 3 (ipykernel)",
   "language": "python",
   "name": "python3"
  },
  "language_info": {
   "codemirror_mode": {
    "name": "ipython",
    "version": 3
   },
   "file_extension": ".py",
   "mimetype": "text/x-python",
   "name": "python",
   "nbconvert_exporter": "python",
   "pygments_lexer": "ipython3",
   "version": "3.11.7"
  }
 },
 "nbformat": 4,
 "nbformat_minor": 5
}
